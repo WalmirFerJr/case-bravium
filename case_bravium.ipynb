{
  "cells": [
    {
      "cell_type": "code",
      "execution_count": 55,
      "metadata": {
        "id": "LoIlRTf4PoXb"
      },
      "outputs": [],
      "source": [
        "# ===============================\n",
        "# 1. Instalação e imports\n",
        "# ===============================\n",
        "!pip install -q pandas numpy matplotlib seaborn scikit-learn nltk spacy\n",
        "\n",
        "import pandas as pd\n",
        "import numpy as np\n",
        "import matplotlib.pyplot as plt\n",
        "import seaborn as sns\n",
        "import re\n",
        "import nltk\n",
        "from nltk.corpus import stopwords\n",
        "from sklearn.model_selection import train_test_split, StratifiedKFold, GridSearchCV\n",
        "from sklearn.pipeline import Pipeline\n",
        "from sklearn.feature_extraction.text import TfidfVectorizer\n",
        "from sklearn.linear_model import LogisticRegression\n",
        "from sklearn.metrics import classification_report, confusion_matrix\n"
      ]
    },
    {
      "cell_type": "code",
      "execution_count": 56,
      "metadata": {
        "colab": {
          "base_uri": "https://localhost:8080/"
        },
        "id": "IlOZ8L0XPoZ-",
        "outputId": "d0ea8b91-7b76-478a-b89b-c9b3355b4c9a"
      },
      "outputs": [
        {
          "name": "stderr",
          "output_type": "stream",
          "text": [
            "[nltk_data] Downloading package stopwords to /root/nltk_data...\n",
            "[nltk_data]   Package stopwords is already up-to-date!\n"
          ]
        },
        {
          "name": "stdout",
          "output_type": "stream",
          "text": [
            "Collecting pt-core-news-sm==3.8.0\n",
            "  Downloading https://github.com/explosion/spacy-models/releases/download/pt_core_news_sm-3.8.0/pt_core_news_sm-3.8.0-py3-none-any.whl (13.0 MB)\n",
            "\u001b[2K     \u001b[90m━━━━━━━━━━━━━━━━━━━━━━━━━━━━━━━━━━━━━━━━\u001b[0m \u001b[32m13.0/13.0 MB\u001b[0m \u001b[31m29.2 MB/s\u001b[0m eta \u001b[36m0:00:00\u001b[0m\n",
            "\u001b[?25h\u001b[38;5;2m✔ Download and installation successful\u001b[0m\n",
            "You can now load the package via spacy.load('pt_core_news_sm')\n",
            "\u001b[38;5;3m⚠ Restart to reload dependencies\u001b[0m\n",
            "If you are in a Jupyter or Colab notebook, you may need to restart Python in\n",
            "order to load all the package's dependencies. You can do this by selecting the\n",
            "'Restart kernel' or 'Restart runtime' option.\n"
          ]
        }
      ],
      "source": [
        "# ===============================\n",
        "# 2. NLTK e spaCy\n",
        "# ===============================\n",
        "# NLTK stopwords\n",
        "nltk.download('stopwords')\n",
        "stop_words = set(stopwords.words('portuguese'))\n",
        "\n",
        "# SpaCy para lemmatização\n",
        "!python -m spacy download pt_core_news_sm\n",
        "import spacy\n",
        "nlp = spacy.load('pt_core_news_sm')  # manter parser ativo para futuras análises\n"
      ]
    },
    {
      "cell_type": "code",
      "execution_count": 57,
      "metadata": {
        "colab": {
          "base_uri": "https://localhost:8080/"
        },
        "id": "a7TZ0gAuPoda",
        "outputId": "c2423bd9-c4b6-4dca-8964-31b9634b80d9"
      },
      "outputs": [
        {
          "name": "stdout",
          "output_type": "stream",
          "text": [
            "<class 'pandas.core.frame.DataFrame'>\n",
            "RangeIndex: 99224 entries, 0 to 99223\n",
            "Data columns (total 7 columns):\n",
            " #   Column                   Non-Null Count  Dtype \n",
            "---  ------                   --------------  ----- \n",
            " 0   review_id                99224 non-null  object\n",
            " 1   order_id                 99224 non-null  object\n",
            " 2   review_score             99224 non-null  int64 \n",
            " 3   review_comment_title     11568 non-null  object\n",
            " 4   review_comment_message   40977 non-null  object\n",
            " 5   review_creation_date     99224 non-null  object\n",
            " 6   review_answer_timestamp  99224 non-null  object\n",
            "dtypes: int64(1), object(6)\n",
            "memory usage: 5.3+ MB\n"
          ]
        }
      ],
      "source": [
        "# ===============================\n",
        "# 3. Carregar dados\n",
        "# ===============================\n",
        "df = pd.read_csv('/content/drive/MyDrive/Colab Notebooks/Case Bravium/olist_order_reviews_dataset.csv')\n",
        "\n",
        "# Mostrar primeiras linhas e info do dataframe\n",
        "df.head()\n",
        "df.info()\n"
      ]
    },
    {
      "cell_type": "code",
      "execution_count": 58,
      "metadata": {
        "colab": {
          "base_uri": "https://localhost:8080/"
        },
        "id": "397MroWUPogQ",
        "outputId": "2e2ab436-d84d-4bc0-8503-4c8e66078d5f"
      },
      "outputs": [
        {
          "name": "stdout",
          "output_type": "stream",
          "text": [
            "label\n",
            "positiva    76470\n",
            "negativa    14575\n",
            "Name: count, dtype: int64\n"
          ]
        }
      ],
      "source": [
        "# ===============================\n",
        "# 4. Criar variável alvo (positiva/negativa)\n",
        "# ===============================\n",
        "def review_score_label(r):\n",
        "    r = float(r)\n",
        "    if r >= 4:\n",
        "        return 'positiva'\n",
        "    elif r <= 2:\n",
        "        return 'negativa'\n",
        "    else:\n",
        "        return 'neutra'\n",
        "\n",
        "df['label'] = df['review_score'].apply(review_score_label)\n",
        "df = df[df['label'] != 'neutra'].copy()  # manter apenas binário\n",
        "\n",
        "print(df['label'].value_counts())\n",
        "\n",
        "# Opcional: mapear para binário 0/1\n",
        "df['label_bin'] = df['label'].map({'negativa': 0, 'positiva': 1})\n"
      ]
    },
    {
      "cell_type": "code",
      "execution_count": 59,
      "metadata": {
        "id": "_FRZ-NL7Poiq"
      },
      "outputs": [],
      "source": [
        "# ===============================\n",
        "# 5. Limpeza e pré-processamento do texto\n",
        "# ===============================\n",
        "def clean_text(text):\n",
        "    if not isinstance(text, str):\n",
        "        return ''\n",
        "    text = text.lower()\n",
        "    text = re.sub(r'<.*?>', ' ', text)  # remove HTML\n",
        "    text = re.sub(r'http\\S+|www\\.\\S+', ' ', text)  # remove URLs\n",
        "    text = re.sub(r'[^\\w\\sáéíóúãõâêôç]', ' ', text)  # mantém acentos\n",
        "    text = re.sub(r'\\s+', ' ', text).strip()\n",
        "    return text\n",
        "\n",
        "def lemmatize_text(text):\n",
        "    doc = nlp(text)\n",
        "    lemmas = [token.lemma_ for token in doc if token.lemma_ not in stop_words and token.is_alpha]\n",
        "    return ' '.join(lemmas)\n",
        "\n",
        "# Aplicar limpeza e lemmatização\n",
        "df['text_clean'] = df['review_comment_message'].fillna('').apply(clean_text).apply(lemmatize_text)\n"
      ]
    },
    {
      "cell_type": "code",
      "execution_count": 60,
      "metadata": {
        "colab": {
          "base_uri": "https://localhost:8080/",
          "height": 633
        },
        "id": "hHeUCgbPPol2",
        "outputId": "7b1b31af-b6d3-4ff5-8dfc-cb19981a742c"
      },
      "outputs": [
        {
          "data": {
            "image/png": "[encoded data removed]",
            "text/plain": [
              "<Figure size 640x480 with 1 Axes>"
            ]
          },
          "metadata": {},
          "output_type": "display_data"
        },
        {
          "data": {
            "text/html": [
              "<div>\n",
              "<style scoped>\n",
              "    .dataframe tbody tr th:only-of-type {\n",
              "        vertical-align: middle;\n",
              "    }\n",
              "\n",
              "    .dataframe tbody tr th {\n",
              "        vertical-align: top;\n",
              "    }\n",
              "\n",
              "    .dataframe thead th {\n",
              "        text-align: right;\n",
              "    }\n",
              "</style>\n",
              "<table border=\"1\" class=\"dataframe\">\n",
              "  <thead>\n",
              "    <tr style=\"text-align: right;\">\n",
              "      <th></th>\n",
              "      <th>len_chars</th>\n",
              "    </tr>\n",
              "    <tr>\n",
              "      <th>label</th>\n",
              "      <th></th>\n",
              "    </tr>\n",
              "  </thead>\n",
              "  <tbody>\n",
              "    <tr>\n",
              "      <th>negativa</th>\n",
              "      <td>54.328851</td>\n",
              "    </tr>\n",
              "    <tr>\n",
              "      <th>positiva</th>\n",
              "      <td>14.963829</td>\n",
              "    </tr>\n",
              "  </tbody>\n",
              "</table>\n",
              "</div><br><label><b>dtype:</b> float64</label>"
            ],
            "text/plain": [
              "label\n",
              "negativa    54.328851\n",
              "positiva    14.963829\n",
              "Name: len_chars, dtype: float64"
            ]
          },
          "execution_count": 60,
          "metadata": {},
          "output_type": "execute_result"
        }
      ],
      "source": [
        "# ===============================\n",
        "# 6. EDA rápida\n",
        "# ===============================\n",
        "# Distribuição de classes\n",
        "sns.countplot(x='label', data=df)\n",
        "plt.title('Distribuição das classes')\n",
        "plt.show()\n",
        "\n",
        "# Comprimento médio das reviews por classe\n",
        "df['len_chars'] = df['text_clean'].apply(len)\n",
        "df.groupby('label')['len_chars'].mean()\n"
      ]
    },
    {
      "cell_type": "code",
      "execution_count": 61,
      "metadata": {
        "id": "oGt1bU9ZPoof"
      },
      "outputs": [],
      "source": [
        "# ===============================\n",
        "# 7. Preparar dados para ML\n",
        "# ===============================\n",
        "X = df['text_clean']\n",
        "y = df['label_bin']  # binário 0/1\n",
        "\n",
        "X_train, X_test, y_train, y_test = train_test_split(\n",
        "    X, y, stratify=y, test_size=0.2, random_state=42\n",
        ")\n"
      ]
    },
    {
      "cell_type": "code",
      "execution_count": 62,
      "metadata": {
        "colab": {
          "base_uri": "https://localhost:8080/"
        },
        "id": "r6Kmj0RfPorW",
        "outputId": "dfcd2bba-cdad-459a-f956-7a9ad142c3d6"
      },
      "outputs": [
        {
          "name": "stdout",
          "output_type": "stream",
          "text": [
            "Fitting 5 folds for each of 9 candidates, totalling 45 fits\n",
            "Melhores parâmetros: {'clf__C': 5.0, 'tfidf__max_features': 20000}\n"
          ]
        }
      ],
      "source": [
        "# ===============================\n",
        "# 8. Pipeline e GridSearch\n",
        "# ===============================\n",
        "pipeline = Pipeline([\n",
        "    ('tfidf', TfidfVectorizer(ngram_range=(1,2), max_features=20000)),\n",
        "    ('clf', LogisticRegression(class_weight='balanced', max_iter=1000))\n",
        "])\n",
        "\n",
        "params = {\n",
        "    'tfidf__max_features': [5000, 10000, 20000],\n",
        "    'clf__C': [0.1, 1.0, 5.0]\n",
        "}\n",
        "\n",
        "cv = StratifiedKFold(n_splits=5, shuffle=True, random_state=42)\n",
        "\n",
        "gs = GridSearchCV(pipeline, params, cv=cv, scoring='f1_macro', n_jobs=-1, verbose=1)\n",
        "gs.fit(X_train, y_train)\n",
        "\n",
        "print('Melhores parâmetros:', gs.best_params_)\n"
      ]
    },
    {
      "cell_type": "code",
      "execution_count": 63,
      "metadata": {
        "colab": {
          "base_uri": "https://localhost:8080/",
          "height": 605
        },
        "id": "8cxHC1xwPouO",
        "outputId": "4886864f-8e39-4dd4-dcca-77a1dec193dc"
      },
      "outputs": [
        {
          "name": "stdout",
          "output_type": "stream",
          "text": [
            "              precision    recall  f1-score   support\n",
            "\n",
            "    negativa       0.79      0.71      0.74      2915\n",
            "    positiva       0.95      0.96      0.95     15294\n",
            "\n",
            "    accuracy                           0.92     18209\n",
            "   macro avg       0.87      0.84      0.85     18209\n",
            "weighted avg       0.92      0.92      0.92     18209\n",
            "\n"
          ]
        },
        {
          "data": {
            "image/png": "[encoded data removed]",
            "text/plain": [
              "<Figure size 640x480 with 2 Axes>"
            ]
          },
          "metadata": {},
          "output_type": "display_data"
        }
      ],
      "source": [
        "# ===============================\n",
        "# 9. Avaliação do modelo\n",
        "# ===============================\n",
        "y_pred = gs.predict(X_test)\n",
        "print(classification_report(y_test, y_pred, target_names=['negativa','positiva']))\n",
        "\n",
        "cm = confusion_matrix(y_test, y_pred)\n",
        "sns.heatmap(cm, annot=True, fmt='d', xticklabels=['negativa','positiva'], yticklabels=['negativa','positiva'])\n",
        "plt.xlabel('Predito')\n",
        "plt.ylabel('Verdadeiro')\n",
        "plt.show()\n"
      ]
    },
    {
      "cell_type": "code",
      "execution_count": 64,
      "metadata": {
        "colab": {
          "base_uri": "https://localhost:8080/"
        },
        "id": "V74X0IenPowL",
        "outputId": "7464b971-ee84-43a5-d390-e5973e409e86"
      },
      "outputs": [
        {
          "name": "stdout",
          "output_type": "stream",
          "text": [
            "Modelo salvo como model_review_clf.joblib\n"
          ]
        }
      ],
      "source": [
        "# ===============================\n",
        "# 10. Salvar modelo\n",
        "# ===============================\n",
        "import joblib\n",
        "joblib.dump(gs.best_estimator_, 'model_review_clf.joblib')\n",
        "print(\"Modelo salvo como model_review_clf.joblib\")\n"
      ]
    },
    {
      "cell_type": "code",
      "execution_count": 65,
      "metadata": {
        "colab": {
          "base_uri": "https://localhost:8080/"
        },
        "id": "j9hUVBLhPozC",
        "outputId": "f01d8c84-94e8-4e92-bee9-7cbae6b7d660"
      },
      "outputs": [
        {
          "name": "stdout",
          "output_type": "stream",
          "text": [
            "Top palavras positivas: ['nenhum problema' 'ótima' 'bem' 'exatamente' 'antes' 'rapir' 'direitinho'\n",
            " 'amei' 'ótimo' 'conforme' 'recomendo' 'em prazo' 'certinho' 'adorar'\n",
            " 'antes de' 'ameir' 'parabéns' 'lir' 'perfeito' 'rápido']\n",
            "Top palavras negativas: ['péssimo' 'insatisfeito' 'lindo entrega' 'comprei' 'nao' 'cancelar'\n",
            " 'passar' 'entregar' 'inferior' 'recebi' 'pessimo' 'ruim' 'prazo porém'\n",
            " 'aguardar' 'rápido parabéns' 'vir' 'falsificar' 'resposta' 'funcionar'\n",
            " 'bom tarde']\n"
          ]
        }
      ],
      "source": [
        "vec = gs.best_estimator_.named_steps['tfidf']\n",
        "clf = gs.best_estimator_.named_steps['clf']\n",
        "feature_names = vec.get_feature_names_out()\n",
        "coefs = clf.coef_[0]\n",
        "\n",
        "top_pos = np.argsort(coefs)[-20:]\n",
        "top_neg = np.argsort(coefs)[:20]\n",
        "\n",
        "print('Top palavras positivas:', feature_names[top_pos])\n",
        "print('Top palavras negativas:', feature_names[top_neg])"
      ]
    }
  ],
  "metadata": {
    "colab": {
      "provenance": []
    },
    "kernelspec": {
      "display_name": "Python 3",
      "name": "python3"
    },
    "language_info": {
      "name": "python"
    }
  },
  "nbformat": 4,
  "nbformat_minor": 0
}
